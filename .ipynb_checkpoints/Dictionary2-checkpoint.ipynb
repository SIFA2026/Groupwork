{
 "cells": [
  {
   "cell_type": "raw",
   "id": "2a138356-ccea-4df6-8963-ef84680d6eda",
   "metadata": {},
   "source": [
    "GroupMembers = {\"Names\":\"Faith Sieley\",\"Faith Kongo\",\"Rahab Wahome\",\"Jane Kanina\",\"Purity Macheo\"}\n"
   ]
  }
 ],
 "metadata": {
  "kernelspec": {
   "display_name": "",
   "name": ""
  },
  "language_info": {
   "name": ""
  }
 },
 "nbformat": 4,
 "nbformat_minor": 5
}
