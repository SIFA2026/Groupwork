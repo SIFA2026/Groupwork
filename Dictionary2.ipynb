{
 "cells": [
  {
   "cell_type": "code",
   "execution_count": 28,
   "id": "710aaa3b-64c2-41e6-a103-cd3eff9e6b2e",
   "metadata": {},
   "outputs": [],
   "source": [
    "#Teammembers\n",
    "import pandas as pd\n",
    "GroupMembers = {\"Names\":[\"Faith Sieley\",\"Faith Kongo\",\"Rahab Wahome\",\"Jane Kanina\",\"Purity Macheo\"], \n",
    "\"Age\":[20,12,13,15,16]}\n",
    "df = pd.DataFrame(GroupMembers)\n",
    "\n"
   ]
  },
  {
   "cell_type": "code",
   "execution_count": null,
   "id": "38591b3e-a7cb-452a-a53d-73a7a3d8db6c",
   "metadata": {},
   "outputs": [],
   "source": []
  }
 ],
 "metadata": {
  "kernelspec": {
   "display_name": "Python [conda env:base] *",
   "language": "python",
   "name": "conda-base-py"
  },
  "language_info": {
   "codemirror_mode": {
    "name": "ipython",
    "version": 3
   },
   "file_extension": ".py",
   "mimetype": "text/x-python",
   "name": "python",
   "nbconvert_exporter": "python",
   "pygments_lexer": "ipython3",
   "version": "3.12.7"
  }
 },
 "nbformat": 4,
 "nbformat_minor": 5
}
